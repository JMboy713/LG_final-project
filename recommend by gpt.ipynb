{
 "cells": [
  {
   "cell_type": "code",
   "execution_count": 2,
   "id": "7cada57a",
   "metadata": {},
   "outputs": [
    {
     "name": "stdout",
     "output_type": "stream",
     "text": [
      "Note: you may need to restart the kernel to use updated packages.\n"
     ]
    }
   ],
   "source": [
    "pip install scikit-learn -q"
   ]
  },
  {
   "cell_type": "code",
   "execution_count": 5,
   "id": "be5481e5",
   "metadata": {},
   "outputs": [],
   "source": [
    "import pandas as pd\n",
    "vod = pd.read_excel('./data/DX데이터스쿨_프로젝트데이터(VOD,커머스,컨텐츠).xlsx', sheet_name='VOD')\n",
    "commerce = pd.read_excel('./data/DX데이터스쿨_프로젝트데이터(VOD,커머스,컨텐츠).xlsx', sheet_name='커머스')\n",
    "content = pd.read_excel('./data/DX데이터스쿨_프로젝트데이터(VOD,커머스,컨텐츠).xlsx', sheet_name='콘텐츠')\n",
    "sampling = pd.read_csv('./data/DX데이터스쿨_프로젝트데이터_channel_pgm_샘플링_3.csv', encoding='cp949')"
   ]
  },
  {
   "cell_type": "markdown",
   "id": "0ef0d2bc",
   "metadata": {},
   "source": [
    "## 간단한 협업 필터링"
   ]
  },
  {
   "cell_type": "code",
   "execution_count": 3,
   "id": "4fe81ebf",
   "metadata": {},
   "outputs": [],
   "source": [
    "import pandas as pd\n",
    "from sklearn.feature_extraction.text import TfidfVectorizer\n",
    "from sklearn.metrics.pairwise import linear_kernel\n"
   ]
  },
  {
   "cell_type": "code",
   "execution_count": 6,
   "id": "6e3d1622",
   "metadata": {},
   "outputs": [],
   "source": [
    "# 데이터 불러오기\n",
    "data=pd.read_excel('./data/DX데이터스쿨_프로젝트데이터(VOD,커머스,컨텐츠).xlsx', sheet_name='VOD')\n",
    "\n",
    "# 사용자가 시청한 프로그램 정보 추출\n",
    "user_data = data[data['subsr'] == 66056000]  # 특정 사용자 UUID에 맞게 수정\n",
    "\n",
    "# 사용자가 시청한 프로그램의 장르 정보 추출\n",
    "user_genres = user_data['genre_of_ct_cl'].tolist()\n"
   ]
  },
  {
   "cell_type": "markdown",
   "id": "8c3504c7",
   "metadata": {},
   "source": [
    "### 컨텐츠 기반 필터링"
   ]
  },
  {
   "cell_type": "code",
   "execution_count": null,
   "id": "1d09acbb",
   "metadata": {},
   "outputs": [
    {
     "name": "stdout",
     "output_type": "stream",
     "text": [
      "             asset_nm genre_of_ct_cl\n",
      "3550  (FREE)롤러코스터(무료)            코미디\n",
      "3698  (FREE)롤러코스터(무료)            코미디\n",
      "3697  (FREE)롤러코스터(무료)            코미디\n",
      "3696  (FREE)롤러코스터(무료)            코미디\n"
     ]
    }
   ],
   "source": [
    "# TF-IDF 벡터화를 사용하여 프로그램명과 장르를 벡터화\n",
    "tfidf_vectorizer = TfidfVectorizer()\n",
    "program_matrix = tfidf_vectorizer.fit_transform(data['asset_nm'] + ' ' + data['genre_of_ct_cl'])\n",
    "\n",
    "# 사용자가 시청한 프로그램과 유사한 프로그램 찾기\n",
    "cosine_similarities = linear_kernel(program_matrix, program_matrix)\n",
    "similar_programs_indices = cosine_similarities[user_data.index[0]].argsort()[:-5:-1]\n",
    "\n",
    "# 추천 프로그램 출력\n",
    "recommended_programs = data.loc[similar_programs_indices]\n",
    "print(recommended_programs[['asset_nm', 'genre_of_ct_cl']])\n"
   ]
  },
  {
   "cell_type": "markdown",
   "id": "69ef4495",
   "metadata": {},
   "source": [
    "### 협업 필터링"
   ]
  },
  {
   "cell_type": "code",
   "execution_count": 7,
   "id": "05ce656d",
   "metadata": {},
   "outputs": [
    {
     "name": "stdout",
     "output_type": "stream",
     "text": [
      "['(FREE)2067(무료)', '드론-미래전쟁', '무신 : 용의 귀환', '백사 부인', '사일런싱', '스텝업-브레이킹쓰루', '웨이트: 감각에 눈 뜰때', '허트로커', '현장법사-서유기의 시작']\n"
     ]
    }
   ],
   "source": [
    "import pandas as pd\n",
    "from sklearn.metrics.pairwise import cosine_similarity\n",
    "\n",
    "# 데이터 불러오기\n",
    "data = pd.read_excel('./data/DX데이터스쿨_프로젝트데이터(VOD,커머스,컨텐츠).xlsx', sheet_name='VOD')\n",
    "\n",
    "# 사용자-프로그램 매트릭스 생성\n",
    "user_program_matrix = data.pivot_table(index='subsr', columns='asset_nm', values='use_tms', fill_value=0)\n",
    "\n",
    "# 사용자 간의 코사인 유사도 계산\n",
    "user_similarity = cosine_similarity(user_program_matrix)\n",
    "\n",
    "# 특정 사용자 UUID\n",
    "target_user = 66056000\n",
    "\n",
    "# 특정 사용자의 시청 기록 추출\n",
    "target_user_history = user_program_matrix.loc[target_user].values.reshape(1, -1)\n",
    "\n",
    "# 유사한 사용자 찾기\n",
    "similar_users_indices = user_similarity[user_program_matrix.index == target_user].argsort()[0][::-1][1:]\n",
    "\n",
    "# 유사한 사용자가 시청한 프로그램 중 사용자가 아직 시청하지 않은 프로그램 추천\n",
    "recommended_programs = []\n",
    "for user_index in similar_users_indices:\n",
    "    similar_user_history = user_program_matrix.iloc[user_index].values.reshape(1, -1)\n",
    "    unrecommended_programs = similar_user_history - target_user_history\n",
    "\n",
    "    for idx, value in enumerate(unrecommended_programs[0]):\n",
    "        if value > 0:\n",
    "            recommended_programs.append(user_program_matrix.columns[idx])\n",
    "\n",
    "    if len(recommended_programs) >= 5:\n",
    "        break\n",
    "\n",
    "print(recommended_programs)\n"
   ]
  },
  {
   "cell_type": "code",
   "execution_count": null,
   "id": "9f373ce2",
   "metadata": {},
   "outputs": [],
   "source": []
  }
 ],
 "metadata": {
  "kernelspec": {
   "display_name": "Python 3 (ipykernel)",
   "language": "python",
   "name": "python3"
  },
  "language_info": {
   "codemirror_mode": {
    "name": "ipython",
    "version": 3
   },
   "file_extension": ".py",
   "mimetype": "text/x-python",
   "name": "python",
   "nbconvert_exporter": "python",
   "pygments_lexer": "ipython3",
   "version": "3.11.3"
  }
 },
 "nbformat": 4,
 "nbformat_minor": 5
}
